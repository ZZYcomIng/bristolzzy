{
 "cells": [
  {
   "cell_type": "code",
   "execution_count": 111,
   "outputs": [],
   "source": [
    "import cd_tools\n",
    "from cd_tools.osvalkyrie import project_path\n",
    "import os\n",
    "import ssl\n",
    "import chemdataextractor as cder\n",
    "import cd_lib.chose_para as para"
   ],
   "metadata": {
    "collapsed": false,
    "pycharm": {
     "name": "#%%\n"
    }
   }
  },
  {
   "cell_type": "code",
   "execution_count": 113,
   "outputs": [],
   "source": [
    "# 设置文件路径，通常用于HTML或XML文件，因为PDF文件格式可能导致段落定位问题\n",
    "lgrd = cd_tools.lgrd\n",
    "file_path = os.path.join(project_path(), \"DemoDatabase/Publication/document\")\n",
    "\n",
    "# 使用 chemdataextractor 的 Document 类从文件中读取数据\n",
    "# 'from_file' 方法用于加载文件并创建文档对象\n",
    "document= cder.Document.from_file(os.path.join(file_path, 'full4.html'))"
   ],
   "metadata": {
    "collapsed": false,
    "pycharm": {
     "name": "#%%\n"
    }
   }
  },
  {
   "cell_type": "code",
   "execution_count": 114,
   "outputs": [
    {
     "name": "stdout",
     "output_type": "stream",
     "text": [
      "We find 2 synthesis paragraph(s), which is (are):\n",
      "1)\n",
      "\n",
      "A mixture of Zn(NO3)2·6H2O (0.1 mmol, 0.030 g), H5L (0.04 mmol, 0.018 g), DMF (1.5 mL) and water (0.5 mL) was placed in a screw-capped vial, then the vial was capped and placed in an oven at 105 °C for 72 h. The resulting block crystals were washed with DMF three times to give 1·DMF. The yield was ∼24.0 mg (72.6% based on H5L). Anal. Calcd for C65H74N7O27.5Zn4: C, 47.17; H, 4.51; N, 5.92. Found: C, 47.02; H, 4.78; N, 5.63. IR (cm−1): 3424m, 2965w, 2932w, 2807w, 2492w, 2026w, 1660s, 1628s, 1579s, 1450w, 1435w, 1390s, 1255w, 1163w, 1104m, 1061w, 1020w, 920w, 892w, 853w, 781s, 724s, 665w, 579w, 477w.\n",
      ")\n",
      "\n",
      "2)\n",
      "\n",
      "A mixture of Zn(NO3)2·6H2O (0.1 mmol, 0.030 g), H5L (0.04 mmol, 0.018 g), DMA (1.5 mL) and water (1.0 mL) was placed in a screw-capped vial, then the vial was capped and placed in an oven at 105 °C for 72 h. The resulting block crystals were washed with DMA three times to give 1·DMA. The yield was ∼20.6 mg (60.4% based on H5L). Anal. Calcd for C64H85N6O31.5Zn4: C, 45.11; H, 5.03; N, 4.93. Found: C, 45.95; H, 4.88; N, 5.14. IR (cm−1): 3423m, 2964w, 2938w, 2807w, 2487w, 2026w, 1627s, 1506m, 1405s, 1361s, 1261m, 1190w, 1107w, 1020m, 964w, 921w, 891w, 855m, 781s, 724s, 678w, 596w, 478w.\n",
      ")\n",
      "\n"
     ]
    }
   ],
   "source": [
    "item = para.cde_paras(document)\n",
    "\n",
    "if item.sny_sele():\n",
    "    sny_para_list = item.sny_para_str()\n",
    "    pot_sny_para_no = 0\n",
    "    para_number=0\n",
    "    para_number=len(sny_para_list)\n",
    "    print(f'We find {para_number} synthesis paragraph(s), which is (are):')\n",
    "    while pot_sny_para_no < len(sny_para_list):\n",
    "        print(f'{pot_sny_para_no+1})')\n",
    "        print(f'{sny_para_list[pot_sny_para_no]})')\n",
    "        with open(os.path.join(file_path, 'pot_sny_para' + str(pot_sny_para_no) + '.txt'), 'w',\n",
    "                  encoding='utf-8') as f:\n",
    "            f.write(sny_para_list[pot_sny_para_no])\n",
    "        pot_sny_para_no += 1\n",
    "        print()\n"
   ],
   "metadata": {
    "collapsed": false,
    "pycharm": {
     "name": "#%%\n"
    }
   }
  },
  {
   "cell_type": "code",
   "execution_count": 157,
   "outputs": [
    {
     "name": "stdout",
     "output_type": "stream",
     "text": [
      "metal is:Zn\n",
      "metal is:Zn\n"
     ]
    }
   ],
   "source": [
    "import re\n",
    "from cd_lib.pcplib import metal_table, nonmetal_table\n",
    "def re_metal(text):\n",
    "# 使用正则表达式查找金属元素\n",
    "    found_metals = set(re.findall(r'\\b(?:' + '|'.join(metal_table) + r')\\b', text))\n",
    "\n",
    "    if not found_metals:\n",
    "        print(\"there is no metal\")\n",
    "        result= None\n",
    "    else:\n",
    "        print(\"metal is:\"+\"\".join(found_metals))\n",
    "        result = ''.join(found_metals)\n",
    "\n",
    "    return result\n",
    "\n",
    "for i in range(para_number):\n",
    "    metal1=re_metal(sny_para_list[i])"
   ],
   "metadata": {
    "collapsed": false,
    "pycharm": {
     "name": "#%%\n"
    }
   }
  },
  {
   "cell_type": "code",
   "execution_count": 117,
   "outputs": [
    {
     "name": "stdout",
     "output_type": "stream",
     "text": [
      "\n",
      "SLF4J: Failed to load class \"org.slf4j.impl.StaticLoggerBinder\".\r\n",
      "SLF4J: Defaulting to no-operation (NOP) logger implementation\r\n",
      "SLF4J: See http://www.slf4j.org/codes.html#StaticLoggerBinder for further details.\r\n",
      "\n",
      "\n",
      "SLF4J: Failed to load class \"org.slf4j.impl.StaticLoggerBinder\".\r\n",
      "SLF4J: Defaulting to no-operation (NOP) logger implementation\r\n",
      "SLF4J: See http://www.slf4j.org/codes.html#StaticLoggerBinder for further details.\r\n",
      "\n"
     ]
    }
   ],
   "source": [
    "import subprocess\n",
    "import cd_lib.chetg as ctg\n",
    "data_para={}\n",
    "def run_jar(jar_path, args):\n",
    "    command = ['java', '-jar', jar_path] + args\n",
    "    process = subprocess.Popen(command, stdout=subprocess.PIPE, stderr=subprocess.PIPE)\n",
    "    stdout, stderr = process.communicate()\n",
    "    return stdout, stderr\n",
    "\n",
    "# 示例调用\n",
    "jar_path = 'E:/bristol graduation project/MOF_Literature_Extraction-main/Literature Extraction/Code/_CommonRedist/chemicalTagger-1.6-SNAPSHOT-jar-with-dependencies-file.jar'\n",
    "\n",
    "for ind in range(para_number):\n",
    "    input_file_path = os.path.join(file_path, 'pot_sny_para' + str(ind) + '.txt')\n",
    "    output_file_path = os.path.join(file_path, 'chemtg' + str(ind)+'.xml')\n",
    "    # xml_type = ctg.chemtgp(text_loc, chemtg_location= chemtg_location, opt_put='chemtg' + str(ind))\n",
    "    # 检查文件是否存在，如果不存在则创建它\n",
    "    if not os.path.exists(output_file_path):\n",
    "        with open(output_file_path, 'w') as file:\n",
    "            file.write('<root></root>')  # 创建一个简单的XML文件\n",
    "\n",
    "    args = [input_file_path, output_file_path]\n",
    "    stdout, stderr = run_jar(jar_path, args)\n",
    "    with open(output_file_path, 'r', encoding='utf-8') as file:\n",
    "        xml_type = file.read()\n",
    "    print(stdout.decode('utf-8'))\n",
    "    print(stderr.decode('utf-8'))\n",
    "\n",
    "    data_para[ind] = {'metal':metal1,'xml': xml_type}"
   ],
   "metadata": {
    "collapsed": false,
    "pycharm": {
     "name": "#%%\n"
    }
   }
  },
  {
   "cell_type": "code",
   "execution_count": 118,
   "outputs": [
    {
     "name": "stdout",
     "output_type": "stream",
     "text": [
      "[0, '']\n",
      "[1, '']\n"
     ]
    }
   ],
   "source": [
    "for i in range(len(data_para)):\n",
    "\n",
    "    item_name = list(data_para.keys())[i]\n",
    "\n",
    "    # read the result\n",
    "    item_file = ctg.ctg_xml_par(xml_type)\n",
    "\n",
    "    # the process to select condition\n",
    "    csv_cont = [item_name, '']\n",
    "    print(csv_cont)"
   ],
   "metadata": {
    "collapsed": false,
    "pycharm": {
     "name": "#%%\n"
    }
   }
  },
  {
   "cell_type": "code",
   "execution_count": 126,
   "outputs": [
    {
     "name": "stdout",
     "output_type": "stream",
     "text": [
      "[2024-07-23 10:24:50,707] - [C&C] - [20153740.py file line:93] - INFO: 0:['Zn(NO3)2·6H2O', None, 'Zn', 'C64H85N6O31.5Zn4', None, 'Zn']\t['H5L', 91820518, '', 'DMA', 31374, 'Sol', 'water', 962, 'Sol', '1·DMA', None, '', 'H5L', 91820518, '']\n",
      "zzy1 ['Zn(NO3)2·6H2O', None, 'Zn', 'C64H85N6O31.5Zn4', None, 'Zn', '', '', '', '', '', '', '', '', '']\n",
      "zzy2 ['0', '', '105.0', '°C', '72', 'h', '', 'Zn(NO3)2·6H2O', '', 'Zn', 'C64H85N6O31.5Zn4', '', 'Zn', '', '', '', '', '', '', '', '', '', 'H5L', '91820518', '', 'DMA', '31374', 'Sol', 'water', '962', 'Sol', '1·DMA', '', '', 'H5L', '91820518', '']\n",
      "zzy3 ['H5L', 91820518, '', 'DMA', 31374, 'Sol', 'water', 962, 'Sol', '1·DMA', None, '', 'H5L', 91820518, '']\n",
      "[2024-07-23 10:24:57,935] - [C&C] - [20153740.py file line:93] - INFO: 1:['Zn(NO3)2·6H2O', None, 'Zn', 'C64H85N6O31.5Zn4', None, 'Zn']\t['H5L', 91820518, '', 'DMA', 31374, 'Sol', 'water', 962, 'Sol', '1·DMA', None, '', 'H5L', 91820518, '']\n",
      "zzy1 ['Zn(NO3)2·6H2O', None, 'Zn', 'C64H85N6O31.5Zn4', None, 'Zn', '', '', '', '', '', '', '', '', '']\n",
      "zzy2 ['1', '', '105.0', '°C', '72', 'h', '', 'Zn(NO3)2·6H2O', '', 'Zn', 'C64H85N6O31.5Zn4', '', 'Zn', '', '', '', '', '', '', '', '', '', 'H5L', '91820518', '', 'DMA', '31374', 'Sol', 'water', '962', 'Sol', '1·DMA', '', '', 'H5L', '91820518', '']\n",
      "zzy3 ['H5L', 91820518, '', 'DMA', 31374, 'Sol', 'water', 962, 'Sol', '1·DMA', None, '', 'H5L', 91820518, '']\n"
     ]
    }
   ],
   "source": [
    "from cd_lib import onlystr\n",
    "from cd_lib.pcplib import metal_table, nonmetal_table\n",
    "\n",
    "for i in range(len(data_para)):\n",
    "\n",
    "    item_name = list(data_para.keys())[i]\n",
    "\n",
    "    # read the result\n",
    "    item_file = ctg.ctg_xml_par(xml_type)\n",
    "\n",
    "    # the process to select condition\n",
    "    csv_cont = [item_name, '']\n",
    "\n",
    "    def csv_con_bp(chemical_name):\n",
    "        bp_man = ['calc', 'TGA', 'Teflon', 'plate']\n",
    "        breakpoint_list = metal_table + nonmetal_table + bp_man\n",
    "        for i in chemical_name.strip().split('-'):\n",
    "            if i in breakpoint_list:\n",
    "                return True\n",
    "        else:\n",
    "            return False\n",
    "\n",
    "    try:\n",
    "        tt_ele_cla = ctg.tt_classifer(item_file.ope_list())\n",
    "        tt_re = ctg.ht_ident(tt_ele_cla)\n",
    "    except ctg.NoTemTimeError as e:\n",
    "        lgrd.warning('{}_{}:{}'.format(item_name, repr(e), str(e)))\n",
    "        csv_cont[1] = csv_cont[1] + 'T'\n",
    "        tt_re = {'temp': '', 'temp_u': '', 'time': '', 'time_u': ''}\n",
    "    except (TypeError, ValueError) as e:\n",
    "        lgrd.warn('{}_{}:{}'.format(item_name, repr(e), str(e)))\n",
    "        csv_cont[1] = csv_cont[1] + 'T'\n",
    "        tt_re = {'temp': '', 'temp_u': '', 'time': '', 'time_u': ''}\n",
    "\n",
    "    for i in ['temp', 'temp_u', 'time', 'time_u']:\n",
    "        csv_cont.append(onlystr(tt_re[i]))\n",
    "\n",
    "    try:\n",
    "        item_yield = ctg.yield_out(item_file.yield_list())\n",
    "    except Exception as err:\n",
    "        lgrd.warn('{}_{}:{}'.format(item_name, repr(err), str(err)))\n",
    "        item_yield = None\n",
    "    finally:\n",
    "        if item_yield is None:\n",
    "            csv_cont.append('')\n",
    "        else:\n",
    "            csv_cont.append(item_yield)\n",
    "    # 到这, 已经前面的坑全部占了\n",
    "    # 方法结束\n",
    "\n",
    "    item_metal_data = data_para[item_name].get('metal')\n",
    "    if item_metal_data is None:\n",
    "        lgrd.error(f\"Metal data for {item_name} is missing.\")\n",
    "        continue\n",
    "\n",
    "    item_metal = item_metal_data.split(',')\n",
    "    item_metal = set([x.strip() for x in item_metal])\n",
    "\n",
    "    metal_cont = []\n",
    "    chem_cont = []\n",
    "\n",
    "    try:\n",
    "        item_chemical_list_row = ctg.cc_i(item_file.molecular_list())\n",
    "        item_chemical_list = ctg.mixture_iden_no_qua(item_chemical_list_row)\n",
    "        item_chemical_out = ctg.cc_out_no_qua(item_chemical_list)\n",
    "        item_chemical_out = ctg.cc_table_no_qua(item_chemical_out)\n",
    "    except (ctg.ChemicalListError, ctg.NullChemicalNameError, ValueError, AssertionError, TypeError) as e:\n",
    "        csv_cont[1] = csv_cont[1] + 'C'\n",
    "        lgrd.warning('{}_{}:{}'.format(item_name, repr(e), str(e)))\n",
    "\n",
    "        item_chemical_out = []\n",
    "\n",
    "    if len(item_chemical_out) > 2:\n",
    "        for i in item_chemical_out:\n",
    "            if len(i) == 3 and i['name'] != \"\":\n",
    "                table = ['name', 'cid', 'chem_role']\n",
    "                chemicals_info = [i[x] for x in table]\n",
    "            else:\n",
    "                csv_cont[1] = csv_cont[1] + 'B'\n",
    "                chemicals_info = []\n",
    "\n",
    "            if len(chemicals_info) == 3:\n",
    "                if csv_con_bp(chemicals_info[0]):\n",
    "                    break\n",
    "                else:\n",
    "                    if chemicals_info[-1].strip() != \"\" and (chemicals_info[-1].strip() in item_metal) and (len(metal_cont) < 15):\n",
    "                        metal_cont = metal_cont + chemicals_info\n",
    "                    else:\n",
    "                        chem_cont = chem_cont + chemicals_info\n",
    "            else:\n",
    "                csv_cont[1] = csv_cont[1] + 'C'\n",
    "    else:\n",
    "        csv_cont[1] = csv_cont[1] + 'S'\n",
    "    lgrd.info(f'{item_name}:{metal_cont}\\t{chem_cont}')\n",
    "\n",
    "    if len(metal_cont) == 0:\n",
    "        csv_cont[1] = csv_cont[1] + 'M'\n",
    "\n",
    "    while len(metal_cont) < 15:\n",
    "        metal_cont = metal_cont + [\"\"]\n",
    "\n",
    "    if len(chem_cont) > 30:\n",
    "        chem_cont = chem_cont[:30]\n",
    "        csv_cont[1] = csv_cont[1] + 'L'\n",
    "    csv_cont = csv_cont + metal_cont + chem_cont\n",
    "    csv_cont = [onlystr(x) for x in csv_cont]\n",
    "    data_para[item_name]['metal_extracted'] = metal_cont\n",
    "    data_para[item_name]['condition_extracted'] = csv_cont\n",
    "    data_para[item_name]['chemical_extracted'] = chem_cont"
   ],
   "metadata": {
    "collapsed": false,
    "pycharm": {
     "name": "#%%\n"
    }
   }
  },
  {
   "cell_type": "code",
   "execution_count": 127,
   "outputs": [
    {
     "name": "stdout",
     "output_type": "stream",
     "text": [
      "{'', 'Zn'}\n",
      "{'', 'Zn'}\n"
     ]
    }
   ],
   "source": [
    "for i in range(len(data_para)):\n",
    "\n",
    "    item_name = list(data_para.keys())[i]\n",
    "\n",
    "    # if not all the Open Metal Sites extracted in the literature, we skip it.\n",
    "    extracted_metal_list = set(data_para[item_name]['metal_extracted'][2::3])\n",
    "    print(extracted_metal_list)"
   ],
   "metadata": {
    "collapsed": false,
    "pycharm": {
     "name": "#%%\n"
    }
   }
  },
  {
   "cell_type": "code",
   "execution_count": 154,
   "outputs": [],
   "source": [
    "import pandas as pd\n",
    "pd_dict = []\n",
    "for i in range(len(data_para)):\n",
    "\n",
    "    item_name = list(data_para.keys())[i]\n",
    "\n",
    "    # if not all the Open Metal Sites extracted in the literature, we skip it.\n",
    "    extracted_metal_list = set(data_para[item_name]['metal_extracted'][2::3])\n",
    "    for metal in data_para[item_name]['metal']:\n",
    "        if metal not in extracted_metal_list:\n",
    "            continue\n",
    "    temp_dic= {}\n",
    "    temp_dic['filename'] = item_name\n",
    "    temp_dic['metal']=metal1\n",
    "    temp_dic['temperature'] =data_para[item_name]['condition_extracted'][2]\n",
    "    temp_dic['temperature_unit'] =data_para[item_name]['condition_extracted'][3]\n",
    "    temp_dic['time']=data_para[item_name]['condition_extracted'][4]\n",
    "    temp_dic['time_unit']=data_para[item_name]['condition_extracted'][5]\n",
    "    solves_name = []\n",
    "    solves_CID = []\n",
    "    additves_name = []\n",
    "    additves_CID = []\n",
    "    ind = 1\n",
    "    while ind < len(data_para[item_name]['chemical_extracted']):\n",
    "        if data_para[item_name]['chemical_extracted'][ind+1] == \"Sol\":\n",
    "            solves_name.append(data_para[item_name]['chemical_extracted'][ind-1])\n",
    "            solves_CID.append(data_para[item_name]['chemical_extracted'][ind])\n",
    "        elif data_para[item_name]['chemical_extracted'][ind+1] == \"Addi\":\n",
    "            additves_name.append(data_para[item_name]['chemical_extracted'][ind]-1)\n",
    "            additves_CID.append(data_para[item_name]['chemical_extracted'][ind])\n",
    "        ind += 3\n",
    "\n",
    "    for p in range(len(solves_name)):\n",
    "        temp_dic[f'solvent name{p+1}'] = solves_name[p]\n",
    "        temp_dic[f'solvent CID{p+1}'] = solves_CID[p]\n",
    "\n",
    "    for p in range(len(additves_name)):\n",
    "        temp_dic[f'additive name{p+1}'] = additves_name[p]\n",
    "        temp_dic[f'additive CID{p+1}'] = additves_CID[p]\n",
    "\n",
    "    pd_dict.append(temp_dic)\n",
    "df = pd.DataFrame(pd_dict)"
   ],
   "metadata": {
    "collapsed": false,
    "pycharm": {
     "name": "#%%\n"
    }
   }
  },
  {
   "cell_type": "code",
   "execution_count": 155,
   "outputs": [
    {
     "data": {
      "text/plain": "   filename metal temperature temperature_unit time time_unit solvent name1  \\\n0         0    Zn       105.0               °C   72         h           DMA   \n1         1    Zn       105.0               °C   72         h           DMA   \n\n   solvent CID1 solvent name2  solvent CID2  \n0         31374         water           962  \n1         31374         water           962  ",
      "text/html": "<div>\n<style scoped>\n    .dataframe tbody tr th:only-of-type {\n        vertical-align: middle;\n    }\n\n    .dataframe tbody tr th {\n        vertical-align: top;\n    }\n\n    .dataframe thead th {\n        text-align: right;\n    }\n</style>\n<table border=\"1\" class=\"dataframe\">\n  <thead>\n    <tr style=\"text-align: right;\">\n      <th></th>\n      <th>filename</th>\n      <th>metal</th>\n      <th>temperature</th>\n      <th>temperature_unit</th>\n      <th>time</th>\n      <th>time_unit</th>\n      <th>solvent name1</th>\n      <th>solvent CID1</th>\n      <th>solvent name2</th>\n      <th>solvent CID2</th>\n    </tr>\n  </thead>\n  <tbody>\n    <tr>\n      <th>0</th>\n      <td>0</td>\n      <td>Zn</td>\n      <td>105.0</td>\n      <td>°C</td>\n      <td>72</td>\n      <td>h</td>\n      <td>DMA</td>\n      <td>31374</td>\n      <td>water</td>\n      <td>962</td>\n    </tr>\n    <tr>\n      <th>1</th>\n      <td>1</td>\n      <td>Zn</td>\n      <td>105.0</td>\n      <td>°C</td>\n      <td>72</td>\n      <td>h</td>\n      <td>DMA</td>\n      <td>31374</td>\n      <td>water</td>\n      <td>962</td>\n    </tr>\n  </tbody>\n</table>\n</div>"
     },
     "execution_count": 155,
     "metadata": {},
     "output_type": "execute_result"
    }
   ],
   "source": [
    "df"
   ],
   "metadata": {
    "collapsed": false,
    "pycharm": {
     "name": "#%%\n"
    }
   }
  },
  {
   "cell_type": "markdown",
   "source": [],
   "metadata": {
    "collapsed": false,
    "pycharm": {
     "name": "#%% md\n"
    }
   }
  },
  {
   "cell_type": "code",
   "execution_count": null,
   "outputs": [],
   "source": [],
   "metadata": {
    "collapsed": false,
    "pycharm": {
     "name": "#%%\n"
    }
   }
  }
 ],
 "metadata": {
  "kernelspec": {
   "display_name": "Python 3",
   "language": "python",
   "name": "python3"
  },
  "language_info": {
   "codemirror_mode": {
    "name": "ipython",
    "version": 2
   },
   "file_extension": ".py",
   "mimetype": "text/x-python",
   "name": "python",
   "nbconvert_exporter": "python",
   "pygments_lexer": "ipython2",
   "version": "2.7.6"
  }
 },
 "nbformat": 4,
 "nbformat_minor": 0
}